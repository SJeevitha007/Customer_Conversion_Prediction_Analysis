{
  "nbformat": 4,
  "nbformat_minor": 0,
  "metadata": {
    "colab": {
      "provenance": [],
      "authorship_tag": "ABX9TyPOHIELdlWqxP1udScBkWJ+"
    },
    "kernelspec": {
      "name": "python3",
      "display_name": "Python 3"
    },
    "language_info": {
      "name": "python"
    }
  },
  "cells": [
    {
      "cell_type": "markdown",
      "source": [
        "# Customer Conversion Prediction Analysis- Tried OneHotEncoding for Job column."
      ],
      "metadata": {
        "id": "nJ-UJzhfjg1k"
      }
    },
    {
      "cell_type": "code",
      "execution_count": 1,
      "metadata": {
        "id": "QOUP0ybdWfaD"
      },
      "outputs": [],
      "source": [
        "import pandas as pd\n",
        "import numpy as np\n",
        "import matplotlib.pyplot as plt\n",
        "import seaborn as sns"
      ]
    },
    {
      "cell_type": "code",
      "source": [
        "df=pd.read_excel(\"Customer Conversion Prediction.xlsx\")\n",
        "df.head()"
      ],
      "metadata": {
        "colab": {
          "base_uri": "https://localhost:8080/",
          "height": 206
        },
        "id": "L3GUnKqpXN9b",
        "outputId": "ede67350-434c-4559-ca1b-7740dd4815e1"
      },
      "execution_count": 46,
      "outputs": [
        {
          "output_type": "execute_result",
          "data": {
            "text/plain": [
              "    age           job  marital education_qual call_type  day  mon    dur  \\\n",
              "0  58.0    management  married       tertiary   unknown  5.0  may  261.0   \n",
              "1  44.0    technician   single      secondary   unknown  5.0  may  151.0   \n",
              "2  33.0  entrepreneur  married      secondary   unknown  5.0  may   76.0   \n",
              "3  47.0   blue-collar  married        unknown   unknown  5.0  may   92.0   \n",
              "4  33.0       unknown   single        unknown   unknown  5.0  may  198.0   \n",
              "\n",
              "   num_calls prev_outcome   y  \n",
              "0        1.0      unknown  no  \n",
              "1        1.0      unknown  no  \n",
              "2        1.0      unknown  no  \n",
              "3        1.0      unknown  no  \n",
              "4        1.0      unknown  no  "
            ],
            "text/html": [
              "\n",
              "  <div id=\"df-a2b5ca2a-20b7-478d-b6cd-21c6ca54cd5d\">\n",
              "    <div class=\"colab-df-container\">\n",
              "      <div>\n",
              "<style scoped>\n",
              "    .dataframe tbody tr th:only-of-type {\n",
              "        vertical-align: middle;\n",
              "    }\n",
              "\n",
              "    .dataframe tbody tr th {\n",
              "        vertical-align: top;\n",
              "    }\n",
              "\n",
              "    .dataframe thead th {\n",
              "        text-align: right;\n",
              "    }\n",
              "</style>\n",
              "<table border=\"1\" class=\"dataframe\">\n",
              "  <thead>\n",
              "    <tr style=\"text-align: right;\">\n",
              "      <th></th>\n",
              "      <th>age</th>\n",
              "      <th>job</th>\n",
              "      <th>marital</th>\n",
              "      <th>education_qual</th>\n",
              "      <th>call_type</th>\n",
              "      <th>day</th>\n",
              "      <th>mon</th>\n",
              "      <th>dur</th>\n",
              "      <th>num_calls</th>\n",
              "      <th>prev_outcome</th>\n",
              "      <th>y</th>\n",
              "    </tr>\n",
              "  </thead>\n",
              "  <tbody>\n",
              "    <tr>\n",
              "      <th>0</th>\n",
              "      <td>58.0</td>\n",
              "      <td>management</td>\n",
              "      <td>married</td>\n",
              "      <td>tertiary</td>\n",
              "      <td>unknown</td>\n",
              "      <td>5.0</td>\n",
              "      <td>may</td>\n",
              "      <td>261.0</td>\n",
              "      <td>1.0</td>\n",
              "      <td>unknown</td>\n",
              "      <td>no</td>\n",
              "    </tr>\n",
              "    <tr>\n",
              "      <th>1</th>\n",
              "      <td>44.0</td>\n",
              "      <td>technician</td>\n",
              "      <td>single</td>\n",
              "      <td>secondary</td>\n",
              "      <td>unknown</td>\n",
              "      <td>5.0</td>\n",
              "      <td>may</td>\n",
              "      <td>151.0</td>\n",
              "      <td>1.0</td>\n",
              "      <td>unknown</td>\n",
              "      <td>no</td>\n",
              "    </tr>\n",
              "    <tr>\n",
              "      <th>2</th>\n",
              "      <td>33.0</td>\n",
              "      <td>entrepreneur</td>\n",
              "      <td>married</td>\n",
              "      <td>secondary</td>\n",
              "      <td>unknown</td>\n",
              "      <td>5.0</td>\n",
              "      <td>may</td>\n",
              "      <td>76.0</td>\n",
              "      <td>1.0</td>\n",
              "      <td>unknown</td>\n",
              "      <td>no</td>\n",
              "    </tr>\n",
              "    <tr>\n",
              "      <th>3</th>\n",
              "      <td>47.0</td>\n",
              "      <td>blue-collar</td>\n",
              "      <td>married</td>\n",
              "      <td>unknown</td>\n",
              "      <td>unknown</td>\n",
              "      <td>5.0</td>\n",
              "      <td>may</td>\n",
              "      <td>92.0</td>\n",
              "      <td>1.0</td>\n",
              "      <td>unknown</td>\n",
              "      <td>no</td>\n",
              "    </tr>\n",
              "    <tr>\n",
              "      <th>4</th>\n",
              "      <td>33.0</td>\n",
              "      <td>unknown</td>\n",
              "      <td>single</td>\n",
              "      <td>unknown</td>\n",
              "      <td>unknown</td>\n",
              "      <td>5.0</td>\n",
              "      <td>may</td>\n",
              "      <td>198.0</td>\n",
              "      <td>1.0</td>\n",
              "      <td>unknown</td>\n",
              "      <td>no</td>\n",
              "    </tr>\n",
              "  </tbody>\n",
              "</table>\n",
              "</div>\n",
              "      <button class=\"colab-df-convert\" onclick=\"convertToInteractive('df-a2b5ca2a-20b7-478d-b6cd-21c6ca54cd5d')\"\n",
              "              title=\"Convert this dataframe to an interactive table.\"\n",
              "              style=\"display:none;\">\n",
              "        \n",
              "  <svg xmlns=\"http://www.w3.org/2000/svg\" height=\"24px\"viewBox=\"0 0 24 24\"\n",
              "       width=\"24px\">\n",
              "    <path d=\"M0 0h24v24H0V0z\" fill=\"none\"/>\n",
              "    <path d=\"M18.56 5.44l.94 2.06.94-2.06 2.06-.94-2.06-.94-.94-2.06-.94 2.06-2.06.94zm-11 1L8.5 8.5l.94-2.06 2.06-.94-2.06-.94L8.5 2.5l-.94 2.06-2.06.94zm10 10l.94 2.06.94-2.06 2.06-.94-2.06-.94-.94-2.06-.94 2.06-2.06.94z\"/><path d=\"M17.41 7.96l-1.37-1.37c-.4-.4-.92-.59-1.43-.59-.52 0-1.04.2-1.43.59L10.3 9.45l-7.72 7.72c-.78.78-.78 2.05 0 2.83L4 21.41c.39.39.9.59 1.41.59.51 0 1.02-.2 1.41-.59l7.78-7.78 2.81-2.81c.8-.78.8-2.07 0-2.86zM5.41 20L4 18.59l7.72-7.72 1.47 1.35L5.41 20z\"/>\n",
              "  </svg>\n",
              "      </button>\n",
              "      \n",
              "  <style>\n",
              "    .colab-df-container {\n",
              "      display:flex;\n",
              "      flex-wrap:wrap;\n",
              "      gap: 12px;\n",
              "    }\n",
              "\n",
              "    .colab-df-convert {\n",
              "      background-color: #E8F0FE;\n",
              "      border: none;\n",
              "      border-radius: 50%;\n",
              "      cursor: pointer;\n",
              "      display: none;\n",
              "      fill: #1967D2;\n",
              "      height: 32px;\n",
              "      padding: 0 0 0 0;\n",
              "      width: 32px;\n",
              "    }\n",
              "\n",
              "    .colab-df-convert:hover {\n",
              "      background-color: #E2EBFA;\n",
              "      box-shadow: 0px 1px 2px rgba(60, 64, 67, 0.3), 0px 1px 3px 1px rgba(60, 64, 67, 0.15);\n",
              "      fill: #174EA6;\n",
              "    }\n",
              "\n",
              "    [theme=dark] .colab-df-convert {\n",
              "      background-color: #3B4455;\n",
              "      fill: #D2E3FC;\n",
              "    }\n",
              "\n",
              "    [theme=dark] .colab-df-convert:hover {\n",
              "      background-color: #434B5C;\n",
              "      box-shadow: 0px 1px 3px 1px rgba(0, 0, 0, 0.15);\n",
              "      filter: drop-shadow(0px 1px 2px rgba(0, 0, 0, 0.3));\n",
              "      fill: #FFFFFF;\n",
              "    }\n",
              "  </style>\n",
              "\n",
              "      <script>\n",
              "        const buttonEl =\n",
              "          document.querySelector('#df-a2b5ca2a-20b7-478d-b6cd-21c6ca54cd5d button.colab-df-convert');\n",
              "        buttonEl.style.display =\n",
              "          google.colab.kernel.accessAllowed ? 'block' : 'none';\n",
              "\n",
              "        async function convertToInteractive(key) {\n",
              "          const element = document.querySelector('#df-a2b5ca2a-20b7-478d-b6cd-21c6ca54cd5d');\n",
              "          const dataTable =\n",
              "            await google.colab.kernel.invokeFunction('convertToInteractive',\n",
              "                                                     [key], {});\n",
              "          if (!dataTable) return;\n",
              "\n",
              "          const docLinkHtml = 'Like what you see? Visit the ' +\n",
              "            '<a target=\"_blank\" href=https://colab.research.google.com/notebooks/data_table.ipynb>data table notebook</a>'\n",
              "            + ' to learn more about interactive tables.';\n",
              "          element.innerHTML = '';\n",
              "          dataTable['output_type'] = 'display_data';\n",
              "          await google.colab.output.renderOutput(dataTable, element);\n",
              "          const docLink = document.createElement('div');\n",
              "          docLink.innerHTML = docLinkHtml;\n",
              "          element.appendChild(docLink);\n",
              "        }\n",
              "      </script>\n",
              "    </div>\n",
              "  </div>\n",
              "  "
            ]
          },
          "metadata": {},
          "execution_count": 46
        }
      ]
    },
    {
      "cell_type": "code",
      "source": [
        "df.shape"
      ],
      "metadata": {
        "colab": {
          "base_uri": "https://localhost:8080/"
        },
        "id": "fCbMCnGyXTYe",
        "outputId": "64ab8067-5e68-4184-837b-c15bea10ecc4"
      },
      "execution_count": 3,
      "outputs": [
        {
          "output_type": "execute_result",
          "data": {
            "text/plain": [
              "(45211, 11)"
            ]
          },
          "metadata": {},
          "execution_count": 3
        }
      ]
    },
    {
      "cell_type": "code",
      "source": [
        "df.isnull().sum()"
      ],
      "metadata": {
        "colab": {
          "base_uri": "https://localhost:8080/"
        },
        "id": "IxFKUdc7XVRb",
        "outputId": "08da3a41-f405-4b97-95b1-c4255762277b"
      },
      "execution_count": 5,
      "outputs": [
        {
          "output_type": "execute_result",
          "data": {
            "text/plain": [
              "age               0\n",
              "job               0\n",
              "marital           0\n",
              "education_qual    0\n",
              "call_type         0\n",
              "day               0\n",
              "mon               0\n",
              "dur               0\n",
              "num_calls         0\n",
              "prev_outcome      0\n",
              "y                 0\n",
              "dtype: int64"
            ]
          },
          "metadata": {},
          "execution_count": 5
        }
      ]
    },
    {
      "cell_type": "code",
      "source": [
        "df=df.drop_duplicates()"
      ],
      "metadata": {
        "id": "EhnUuTbDXaeL"
      },
      "execution_count": 6,
      "outputs": []
    },
    {
      "cell_type": "code",
      "source": [
        "df.shape"
      ],
      "metadata": {
        "colab": {
          "base_uri": "https://localhost:8080/"
        },
        "id": "LrzCHc_nXbLb",
        "outputId": "d75bb9a7-a9f7-4d74-dd40-ae27c14cc178"
      },
      "execution_count": 7,
      "outputs": [
        {
          "output_type": "execute_result",
          "data": {
            "text/plain": [
              "(45205, 11)"
            ]
          },
          "metadata": {},
          "execution_count": 7
        }
      ]
    },
    {
      "cell_type": "code",
      "source": [
        "df.rename(columns={\"y\":\"target\"},inplace=True)"
      ],
      "metadata": {
        "id": "zRWuhGLbXoxz"
      },
      "execution_count": 47,
      "outputs": []
    },
    {
      "cell_type": "code",
      "source": [
        "plt.pie(df[\"target\"].value_counts(),autopct='%1.2f%%',startangle=90,labels=[\"no\",\"yes\"])"
      ],
      "metadata": {
        "colab": {
          "base_uri": "https://localhost:8080/",
          "height": 352
        },
        "id": "eS9zEENmXqZr",
        "outputId": "217e2176-cf92-457b-cdfe-3be2b1d636e7"
      },
      "execution_count": 9,
      "outputs": [
        {
          "output_type": "execute_result",
          "data": {
            "text/plain": [
              "([<matplotlib.patches.Wedge at 0x7f3d0682edc0>,\n",
              "  <matplotlib.patches.Wedge at 0x7f3d068d3580>],\n",
              " [Text(-0.3952810366448843, -1.0265246719241314, 'no'),\n",
              "  Text(0.3952810606724291, 1.0265246626719104, 'yes')],\n",
              " [Text(-0.21560783816993687, -0.5599225483222535, '88.30%'),\n",
              "  Text(0.21560785127587037, 0.5599225432755874, '11.70%')])"
            ]
          },
          "metadata": {},
          "execution_count": 9
        },
        {
          "output_type": "display_data",
          "data": {
            "text/plain": [
              "<Figure size 432x288 with 1 Axes>"
            ],
            "image/png": "[encoded data removed]"
          },
          "metadata": {}
        }
      ]
    },
    {
      "cell_type": "code",
      "source": [
        "df[\"target\"]=df[\"target\"].map({\"no\":0,\"yes\":1})"
      ],
      "metadata": {
        "id": "JU_nE5ZDXtfq"
      },
      "execution_count": 48,
      "outputs": []
    },
    {
      "cell_type": "code",
      "source": [
        "job_order = df.groupby('job')['target'].mean().reset_index().sort_values('target')['job']\n",
        "marital_order = df.groupby('marital')['target'].mean().reset_index().sort_values('target')['marital']\n",
        "qual_order = df.groupby('education_qual')['target'].mean().reset_index().sort_values('target')['education_qual']\n",
        "call_order = df.groupby('call_type')['target'].mean().reset_index().sort_values('target')['call_type']\n",
        "prev_order = df.groupby('prev_outcome')['target'].mean().reset_index().sort_values('target')['prev_outcome']\n",
        "mon_order = df.groupby('mon')['target'].mean().reset_index().sort_values('target')['mon']"
      ],
      "metadata": {
        "id": "MMO2ydOMXzGs"
      },
      "execution_count": 11,
      "outputs": []
    },
    {
      "cell_type": "code",
      "source": [
        "plt.figure(figsize=(10,15))\n",
        "\n",
        "\n",
        "sns.barplot(df[\"job\"],df[\"target\"],alpha=0.50,order=job_order)\n",
        "plt.xticks(rotation=90)\n",
        "plt.show()\n",
        "\n",
        "\n",
        "sns.barplot(df[\"marital\"],df[\"target\"],alpha=0.50,order=marital_order)\n",
        "plt.xticks(rotation=90)\n",
        "plt.show()\n",
        "\n",
        "\n",
        "sns.barplot(df[\"education_qual\"],df[\"target\"],alpha=0.50,order=qual_order)\n",
        "plt.xticks(rotation=90)\n",
        "plt.show()\n",
        "\n",
        "\n",
        "sns.barplot(df[\"call_type\"],df[\"target\"],alpha=0.50,order=call_order)\n",
        "plt.xticks(rotation=90)\n",
        "plt.show()\n",
        "\n",
        "sns.barplot(df[\"prev_outcome\"],df[\"target\"],alpha=0.50,order=prev_order)\n",
        "plt.xticks(rotation=90)\n",
        "plt.show()\n",
        "\n",
        "sns.barplot(df[\"mon\"],df[\"target\"],alpha=0.50,order=mon_order)\n",
        "plt.xticks(rotation=90)\n",
        "plt.show()"
      ],
      "metadata": {
        "colab": {
          "base_uri": "https://localhost:8080/",
          "height": 1000
        },
        "id": "tcAf8YmPX5o6",
        "outputId": "1a95e505-2e51-4bac-818f-27839c337b04"
      },
      "execution_count": 12,
      "outputs": [
        {
          "output_type": "stream",
          "name": "stderr",
          "text": [
            "/usr/local/lib/python3.8/dist-packages/seaborn/_decorators.py:36: FutureWarning: Pass the following variables as keyword args: x, y. From version 0.12, the only valid positional argument will be `data`, and passing other arguments without an explicit keyword will result in an error or misinterpretation.\n",
            "  warnings.warn(\n"
          ]
        },
        {
          "output_type": "display_data",
          "data": {
            "text/plain": [
              "<Figure size 720x1080 with 1 Axes>"
            ],
            "image/png": "[encoded data removed]"
          },
          "metadata": {
            "needs_background": "light"
          }
        },
        {
          "output_type": "stream",
          "name": "stderr",
          "text": [
            "/usr/local/lib/python3.8/dist-packages/seaborn/_decorators.py:36: FutureWarning: Pass the following variables as keyword args: x, y. From version 0.12, the only valid positional argument will be `data`, and passing other arguments without an explicit keyword will result in an error or misinterpretation.\n",
            "  warnings.warn(\n"
          ]
        },
        {
          "output_type": "display_data",
          "data": {
            "text/plain": [
              "<Figure size 432x288 with 1 Axes>"
            ],
            "image/png": "[encoded data removed]"
          },
          "metadata": {
            "needs_background": "light"
          }
        },
        {
          "output_type": "stream",
          "name": "stderr",
          "text": [
            "/usr/local/lib/python3.8/dist-packages/seaborn/_decorators.py:36: FutureWarning: Pass the following variables as keyword args: x, y. From version 0.12, the only valid positional argument will be `data`, and passing other arguments without an explicit keyword will result in an error or misinterpretation.\n",
            "  warnings.warn(\n"
          ]
        },
        {
          "output_type": "display_data",
          "data": {
            "text/plain": [
              "<Figure size 432x288 with 1 Axes>"
            ],
            "image/png": "[encoded data removed]"
          },
          "metadata": {
            "needs_background": "light"
          }
        },
        {
          "output_type": "stream",
          "name": "stderr",
          "text": [
            "/usr/local/lib/python3.8/dist-packages/seaborn/_decorators.py:36: FutureWarning: Pass the following variables as keyword args: x, y. From version 0.12, the only valid positional argument will be `data`, and passing other arguments without an explicit keyword will result in an error or misinterpretation.\n",
            "  warnings.warn(\n"
          ]
        },
        {
          "output_type": "display_data",
          "data": {
            "text/plain": [
              "<Figure size 432x288 with 1 Axes>"
            ],
            "image/png": "[encoded data removed]"
          },
          "metadata": {
            "needs_background": "light"
          }
        },
        {
          "output_type": "stream",
          "name": "stderr",
          "text": [
            "/usr/local/lib/python3.8/dist-packages/seaborn/_decorators.py:36: FutureWarning: Pass the following variables as keyword args: x, y. From version 0.12, the only valid positional argument will be `data`, and passing other arguments without an explicit keyword will result in an error or misinterpretation.\n",
            "  warnings.warn(\n"
          ]
        },
        {
          "output_type": "display_data",
          "data": {
            "text/plain": [
              "<Figure size 432x288 with 1 Axes>"
            ],
            "image/png": "[encoded data removed]"
          },
          "metadata": {
            "needs_background": "light"
          }
        },
        {
          "output_type": "stream",
          "name": "stderr",
          "text": [
            "/usr/local/lib/python3.8/dist-packages/seaborn/_decorators.py:36: FutureWarning: Pass the following variables as keyword args: x, y. From version 0.12, the only valid positional argument will be `data`, and passing other arguments without an explicit keyword will result in an error or misinterpretation.\n",
            "  warnings.warn(\n"
          ]
        },
        {
          "output_type": "display_data",
          "data": {
            "text/plain": [
              "<Figure size 432x288 with 1 Axes>"
            ],
            "image/png": "[encoded data removed]"
          },
          "metadata": {
            "needs_background": "light"
          }
        }
      ]
    },
    {
      "cell_type": "code",
      "source": [
        "plt.figure(figsize=(7,7))\n",
        "sns.heatmap(df.corr(),annot=True,linewidths=0.8)"
      ],
      "metadata": {
        "colab": {
          "base_uri": "https://localhost:8080/",
          "height": 450
        },
        "id": "1JYGuafpYZlt",
        "outputId": "f1ef14b2-f8b2-4966-ec7d-27cb3ebcf564"
      },
      "execution_count": 13,
      "outputs": [
        {
          "output_type": "execute_result",
          "data": {
            "text/plain": [
              "<AxesSubplot:>"
            ]
          },
          "metadata": {},
          "execution_count": 13
        },
        {
          "output_type": "display_data",
          "data": {
            "text/plain": [
              "<Figure size 504x504 with 2 Axes>"
            ],
            "image/png": "[encoded data removed]"
          },
          "metadata": {
            "needs_background": "light"
          }
        }
      ]
    },
    {
      "cell_type": "code",
      "source": [
        "del df['day']\n",
        "del df['num_calls']"
      ],
      "metadata": {
        "id": "nDbbEma5YiwT"
      },
      "execution_count": 49,
      "outputs": []
    },
    {
      "cell_type": "code",
      "source": [
        "df[\"marital\"]=df[\"marital\"].map({\"married\":0,\"divorced\":1,\"single\":2})\n",
        "df[\"education_qual\"]=df[\"education_qual\"].map({\"primary\":0,\"secondary\":1,\"unknown\":2,\"tertiary\":3})\n",
        "df = pd.get_dummies(df, columns = ['call_type','prev_outcome','job','mon'],drop_first=True)"
      ],
      "metadata": {
        "id": "-TfF83ZHYl63"
      },
      "execution_count": 50,
      "outputs": []
    },
    {
      "cell_type": "code",
      "source": [
        "df.head()"
      ],
      "metadata": {
        "colab": {
          "base_uri": "https://localhost:8080/",
          "height": 299
        },
        "id": "Ju7z15x3ZAdD",
        "outputId": "4d1a6ac2-0c0a-41a3-abbd-e1f1ca0b16e1"
      },
      "execution_count": 41,
      "outputs": [
        {
          "output_type": "execute_result",
          "data": {
            "text/plain": [
              "    age  marital  education_qual    dur   y  call_type_telephone  \\\n",
              "0  58.0        0               3  261.0  no                    0   \n",
              "1  44.0        2               1  151.0  no                    0   \n",
              "2  33.0        0               1   76.0  no                    0   \n",
              "3  47.0        0               2   92.0  no                    0   \n",
              "4  33.0        2               2  198.0  no                    0   \n",
              "\n",
              "   call_type_unknown  prev_outcome_other  prev_outcome_success  \\\n",
              "0                  1                   0                     0   \n",
              "1                  1                   0                     0   \n",
              "2                  1                   0                     0   \n",
              "3                  1                   0                     0   \n",
              "4                  1                   0                     0   \n",
              "\n",
              "   prev_outcome_unknown  ...  mon_dec  mon_feb  mon_jan  mon_jul  mon_jun  \\\n",
              "0                     1  ...        0        0        0        0        0   \n",
              "1                     1  ...        0        0        0        0        0   \n",
              "2                     1  ...        0        0        0        0        0   \n",
              "3                     1  ...        0        0        0        0        0   \n",
              "4                     1  ...        0        0        0        0        0   \n",
              "\n",
              "   mon_mar  mon_may  mon_nov  mon_oct  mon_sep  \n",
              "0        0        1        0        0        0  \n",
              "1        0        1        0        0        0  \n",
              "2        0        1        0        0        0  \n",
              "3        0        1        0        0        0  \n",
              "4        0        1        0        0        0  \n",
              "\n",
              "[5 rows x 32 columns]"
            ],
            "text/html": [
              "\n",
              "  <div id=\"df-68a3db29-8f61-490f-9fcd-ffa8e3f73a55\">\n",
              "    <div class=\"colab-df-container\">\n",
              "      <div>\n",
              "<style scoped>\n",
              "    .dataframe tbody tr th:only-of-type {\n",
              "        vertical-align: middle;\n",
              "    }\n",
              "\n",
              "    .dataframe tbody tr th {\n",
              "        vertical-align: top;\n",
              "    }\n",
              "\n",
              "    .dataframe thead th {\n",
              "        text-align: right;\n",
              "    }\n",
              "</style>\n",
              "<table border=\"1\" class=\"dataframe\">\n",
              "  <thead>\n",
              "    <tr style=\"text-align: right;\">\n",
              "      <th></th>\n",
              "      <th>age</th>\n",
              "      <th>marital</th>\n",
              "      <th>education_qual</th>\n",
              "      <th>dur</th>\n",
              "      <th>y</th>\n",
              "      <th>call_type_telephone</th>\n",
              "      <th>call_type_unknown</th>\n",
              "      <th>prev_outcome_other</th>\n",
              "      <th>prev_outcome_success</th>\n",
              "      <th>prev_outcome_unknown</th>\n",
              "      <th>...</th>\n",
              "      <th>mon_dec</th>\n",
              "      <th>mon_feb</th>\n",
              "      <th>mon_jan</th>\n",
              "      <th>mon_jul</th>\n",
              "      <th>mon_jun</th>\n",
              "      <th>mon_mar</th>\n",
              "      <th>mon_may</th>\n",
              "      <th>mon_nov</th>\n",
              "      <th>mon_oct</th>\n",
              "      <th>mon_sep</th>\n",
              "    </tr>\n",
              "  </thead>\n",
              "  <tbody>\n",
              "    <tr>\n",
              "      <th>0</th>\n",
              "      <td>58.0</td>\n",
              "      <td>0</td>\n",
              "      <td>3</td>\n",
              "      <td>261.0</td>\n",
              "      <td>no</td>\n",
              "      <td>0</td>\n",
              "      <td>1</td>\n",
              "      <td>0</td>\n",
              "      <td>0</td>\n",
              "      <td>1</td>\n",
              "      <td>...</td>\n",
              "      <td>0</td>\n",
              "      <td>0</td>\n",
              "      <td>0</td>\n",
              "      <td>0</td>\n",
              "      <td>0</td>\n",
              "      <td>0</td>\n",
              "      <td>1</td>\n",
              "      <td>0</td>\n",
              "      <td>0</td>\n",
              "      <td>0</td>\n",
              "    </tr>\n",
              "    <tr>\n",
              "      <th>1</th>\n",
              "      <td>44.0</td>\n",
              "      <td>2</td>\n",
              "      <td>1</td>\n",
              "      <td>151.0</td>\n",
              "      <td>no</td>\n",
              "      <td>0</td>\n",
              "      <td>1</td>\n",
              "      <td>0</td>\n",
              "      <td>0</td>\n",
              "      <td>1</td>\n",
              "      <td>...</td>\n",
              "      <td>0</td>\n",
              "      <td>0</td>\n",
              "      <td>0</td>\n",
              "      <td>0</td>\n",
              "      <td>0</td>\n",
              "      <td>0</td>\n",
              "      <td>1</td>\n",
              "      <td>0</td>\n",
              "      <td>0</td>\n",
              "      <td>0</td>\n",
              "    </tr>\n",
              "    <tr>\n",
              "      <th>2</th>\n",
              "      <td>33.0</td>\n",
              "      <td>0</td>\n",
              "      <td>1</td>\n",
              "      <td>76.0</td>\n",
              "      <td>no</td>\n",
              "      <td>0</td>\n",
              "      <td>1</td>\n",
              "      <td>0</td>\n",
              "      <td>0</td>\n",
              "      <td>1</td>\n",
              "      <td>...</td>\n",
              "      <td>0</td>\n",
              "      <td>0</td>\n",
              "      <td>0</td>\n",
              "      <td>0</td>\n",
              "      <td>0</td>\n",
              "      <td>0</td>\n",
              "      <td>1</td>\n",
              "      <td>0</td>\n",
              "      <td>0</td>\n",
              "      <td>0</td>\n",
              "    </tr>\n",
              "    <tr>\n",
              "      <th>3</th>\n",
              "      <td>47.0</td>\n",
              "      <td>0</td>\n",
              "      <td>2</td>\n",
              "      <td>92.0</td>\n",
              "      <td>no</td>\n",
              "      <td>0</td>\n",
              "      <td>1</td>\n",
              "      <td>0</td>\n",
              "      <td>0</td>\n",
              "      <td>1</td>\n",
              "      <td>...</td>\n",
              "      <td>0</td>\n",
              "      <td>0</td>\n",
              "      <td>0</td>\n",
              "      <td>0</td>\n",
              "      <td>0</td>\n",
              "      <td>0</td>\n",
              "      <td>1</td>\n",
              "      <td>0</td>\n",
              "      <td>0</td>\n",
              "      <td>0</td>\n",
              "    </tr>\n",
              "    <tr>\n",
              "      <th>4</th>\n",
              "      <td>33.0</td>\n",
              "      <td>2</td>\n",
              "      <td>2</td>\n",
              "      <td>198.0</td>\n",
              "      <td>no</td>\n",
              "      <td>0</td>\n",
              "      <td>1</td>\n",
              "      <td>0</td>\n",
              "      <td>0</td>\n",
              "      <td>1</td>\n",
              "      <td>...</td>\n",
              "      <td>0</td>\n",
              "      <td>0</td>\n",
              "      <td>0</td>\n",
              "      <td>0</td>\n",
              "      <td>0</td>\n",
              "      <td>0</td>\n",
              "      <td>1</td>\n",
              "      <td>0</td>\n",
              "      <td>0</td>\n",
              "      <td>0</td>\n",
              "    </tr>\n",
              "  </tbody>\n",
              "</table>\n",
              "<p>5 rows × 32 columns</p>\n",
              "</div>\n",
              "      <button class=\"colab-df-convert\" onclick=\"convertToInteractive('df-68a3db29-8f61-490f-9fcd-ffa8e3f73a55')\"\n",
              "              title=\"Convert this dataframe to an interactive table.\"\n",
              "              style=\"display:none;\">\n",
              "        \n",
              "  <svg xmlns=\"http://www.w3.org/2000/svg\" height=\"24px\"viewBox=\"0 0 24 24\"\n",
              "       width=\"24px\">\n",
              "    <path d=\"M0 0h24v24H0V0z\" fill=\"none\"/>\n",
              "    <path d=\"M18.56 5.44l.94 2.06.94-2.06 2.06-.94-2.06-.94-.94-2.06-.94 2.06-2.06.94zm-11 1L8.5 8.5l.94-2.06 2.06-.94-2.06-.94L8.5 2.5l-.94 2.06-2.06.94zm10 10l.94 2.06.94-2.06 2.06-.94-2.06-.94-.94-2.06-.94 2.06-2.06.94z\"/><path d=\"M17.41 7.96l-1.37-1.37c-.4-.4-.92-.59-1.43-.59-.52 0-1.04.2-1.43.59L10.3 9.45l-7.72 7.72c-.78.78-.78 2.05 0 2.83L4 21.41c.39.39.9.59 1.41.59.51 0 1.02-.2 1.41-.59l7.78-7.78 2.81-2.81c.8-.78.8-2.07 0-2.86zM5.41 20L4 18.59l7.72-7.72 1.47 1.35L5.41 20z\"/>\n",
              "  </svg>\n",
              "      </button>\n",
              "      \n",
              "  <style>\n",
              "    .colab-df-container {\n",
              "      display:flex;\n",
              "      flex-wrap:wrap;\n",
              "      gap: 12px;\n",
              "    }\n",
              "\n",
              "    .colab-df-convert {\n",
              "      background-color: #E8F0FE;\n",
              "      border: none;\n",
              "      border-radius: 50%;\n",
              "      cursor: pointer;\n",
              "      display: none;\n",
              "      fill: #1967D2;\n",
              "      height: 32px;\n",
              "      padding: 0 0 0 0;\n",
              "      width: 32px;\n",
              "    }\n",
              "\n",
              "    .colab-df-convert:hover {\n",
              "      background-color: #E2EBFA;\n",
              "      box-shadow: 0px 1px 2px rgba(60, 64, 67, 0.3), 0px 1px 3px 1px rgba(60, 64, 67, 0.15);\n",
              "      fill: #174EA6;\n",
              "    }\n",
              "\n",
              "    [theme=dark] .colab-df-convert {\n",
              "      background-color: #3B4455;\n",
              "      fill: #D2E3FC;\n",
              "    }\n",
              "\n",
              "    [theme=dark] .colab-df-convert:hover {\n",
              "      background-color: #434B5C;\n",
              "      box-shadow: 0px 1px 3px 1px rgba(0, 0, 0, 0.15);\n",
              "      filter: drop-shadow(0px 1px 2px rgba(0, 0, 0, 0.3));\n",
              "      fill: #FFFFFF;\n",
              "    }\n",
              "  </style>\n",
              "\n",
              "      <script>\n",
              "        const buttonEl =\n",
              "          document.querySelector('#df-68a3db29-8f61-490f-9fcd-ffa8e3f73a55 button.colab-df-convert');\n",
              "        buttonEl.style.display =\n",
              "          google.colab.kernel.accessAllowed ? 'block' : 'none';\n",
              "\n",
              "        async function convertToInteractive(key) {\n",
              "          const element = document.querySelector('#df-68a3db29-8f61-490f-9fcd-ffa8e3f73a55');\n",
              "          const dataTable =\n",
              "            await google.colab.kernel.invokeFunction('convertToInteractive',\n",
              "                                                     [key], {});\n",
              "          if (!dataTable) return;\n",
              "\n",
              "          const docLinkHtml = 'Like what you see? Visit the ' +\n",
              "            '<a target=\"_blank\" href=https://colab.research.google.com/notebooks/data_table.ipynb>data table notebook</a>'\n",
              "            + ' to learn more about interactive tables.';\n",
              "          element.innerHTML = '';\n",
              "          dataTable['output_type'] = 'display_data';\n",
              "          await google.colab.output.renderOutput(dataTable, element);\n",
              "          const docLink = document.createElement('div');\n",
              "          docLink.innerHTML = docLinkHtml;\n",
              "          element.appendChild(docLink);\n",
              "        }\n",
              "      </script>\n",
              "    </div>\n",
              "  </div>\n",
              "  "
            ]
          },
          "metadata": {},
          "execution_count": 41
        }
      ]
    },
    {
      "cell_type": "code",
      "source": [
        "x=df.drop(\"target\",axis=1)\n",
        "y=df[\"target\"]"
      ],
      "metadata": {
        "id": "ISaayJTlZEJ6"
      },
      "execution_count": 51,
      "outputs": []
    },
    {
      "cell_type": "code",
      "source": [
        "x_train,x_test,y_train,y_test=train_test_split(x,y,test_size=0.20,random_state=2022)"
      ],
      "metadata": {
        "id": "iJ2ODYT6ZkBM"
      },
      "execution_count": 52,
      "outputs": []
    },
    {
      "cell_type": "code",
      "source": [
        "from sklearn.preprocessing import StandardScaler\n",
        "from sklearn.pipeline import Pipeline\n",
        "from sklearn.decomposition import PCA\n",
        "from sklearn.model_selection import StratifiedKFold\n",
        "from sklearn.model_selection import train_test_split, GridSearchCV\n",
        "from sklearn.metrics import ConfusionMatrixDisplay\n",
        "from sklearn.linear_model import LogisticRegression\n",
        "from sklearn.neighbors import KNeighborsClassifier\n",
        "from sklearn.ensemble import RandomForestClassifier\n",
        "from sklearn.tree import DecisionTreeClassifier\n",
        "from xgboost import XGBClassifier\n",
        "from sklearn import svm"
      ],
      "metadata": {
        "id": "E51SbLasZIkA"
      },
      "execution_count": 24,
      "outputs": []
    },
    {
      "cell_type": "code",
      "source": [
        "pipe_lr = Pipeline([('pca',PCA()),\n",
        "                    ('scl', StandardScaler()),\n",
        "                    ('LR', LogisticRegression(random_state=2022))])\n",
        "pipe_dt = Pipeline([('pca',PCA()),\n",
        "                    ('scl', StandardScaler()),\n",
        "                    ('DT',DecisionTreeClassifier(random_state=2022))])\n",
        "pipe_rf = Pipeline([('pca',PCA()),\n",
        "                    ('scl', StandardScaler()),\n",
        "                    ('RF',RandomForestClassifier(random_state=2022))])\n",
        "pipe_knn = Pipeline([('pca',PCA()),\n",
        "                     ('scl', StandardScaler()),\n",
        "                    ('KNN', KNeighborsClassifier())])\n",
        "pipe_svm = Pipeline([('pca',PCA()),\n",
        "                     ('scl', StandardScaler()),\n",
        "                     ('SVM', svm.SVC(random_state=2022))])\n",
        "pipe_xgb = Pipeline([('pca',PCA()),\n",
        "                     ('scl', StandardScaler()),\n",
        "                     ('XGB', XGBClassifier(random_state=2022))])"
      ],
      "metadata": {
        "id": "fwkTOOmJZP8r"
      },
      "execution_count": 53,
      "outputs": []
    },
    {
      "cell_type": "code",
      "source": [
        "lr_param_grid = [{'LR__penalty': ['l2'],'LR__C':[2.0]}]\n",
        "dt_param_grid = [{'DT__criterion': ['gini', 'entropy'],'DT__max_depth': [3,4,5,6,7]}]\n",
        "rf_param_grid = [{'RF__criterion':['gini'],'RF__n_estimators':[10]}]\n",
        "knn_param_grid = [{'KNN__n_neighbors':[10],'KNN__weights': ['uniform', 'distance'],'KNN__metric': ['euclidean']}]\n",
        "svm_param_grid = [{'SVM__kernel': ['linear', 'rbf'], 'SVM__C':[6]}]\n",
        "xgb_param_grid = [{'XGB__learning_rate': [0.3,0.5,0.6,0.8,1.0],'XGB__max_depth':[6]}]\n",
        "cv=StratifiedKFold(n_splits=3)"
      ],
      "metadata": {
        "id": "8eLDRBFhZRzb"
      },
      "execution_count": 54,
      "outputs": []
    },
    {
      "cell_type": "code",
      "source": [
        "lr_grid_search = GridSearchCV(estimator=pipe_lr,\n",
        "        param_grid=lr_param_grid,\n",
        "        scoring='roc_auc',\n",
        "        cv=cv)\n",
        "dt_grid_search = GridSearchCV(estimator=pipe_dt,\n",
        "        param_grid=dt_param_grid,\n",
        "        scoring='roc_auc',\n",
        "        cv=cv)\n",
        "rf_grid_search = GridSearchCV(estimator=pipe_rf,\n",
        "        param_grid=rf_param_grid,\n",
        "        scoring='roc_auc',\n",
        "        cv=cv)\n",
        "knn_grid_search = GridSearchCV(estimator=pipe_knn,\n",
        "        param_grid=knn_param_grid,\n",
        "        scoring='roc_auc',\n",
        "        cv=cv)\n",
        "svm_grid_search = GridSearchCV(estimator=pipe_svm,\n",
        "        param_grid=svm_param_grid,\n",
        "        scoring='roc_auc',\n",
        "        cv=cv)\n",
        "xgb_grid_search = GridSearchCV(estimator=pipe_xgb,\n",
        "        param_grid=xgb_param_grid,\n",
        "        scoring='roc_auc',\n",
        "        cv=cv)"
      ],
      "metadata": {
        "id": "VAl-nUiIZT9u"
      },
      "execution_count": 55,
      "outputs": []
    },
    {
      "cell_type": "code",
      "source": [
        "from imblearn.combine import SMOTEENN\n",
        "sm=SMOTEENN()\n",
        "x_train_,y_train_=sm.fit_resample(x_train,y_train)"
      ],
      "metadata": {
        "id": "08Rrhl_RZXij"
      },
      "execution_count": 56,
      "outputs": []
    },
    {
      "cell_type": "code",
      "source": [
        "from collections import Counter\n",
        "print(Counter(y_train))\n",
        "print(Counter(y_train_))"
      ],
      "metadata": {
        "colab": {
          "base_uri": "https://localhost:8080/"
        },
        "id": "SUjNtqL_Zp53",
        "outputId": "51082777-0892-4cb1-81e5-2ccec7a908ca"
      },
      "execution_count": 27,
      "outputs": [
        {
          "output_type": "stream",
          "name": "stdout",
          "text": [
            "Counter({0: 31942, 1: 4222})\n",
            "Counter({1: 29900, 0: 22496})\n"
          ]
        }
      ]
    },
    {
      "cell_type": "code",
      "source": [
        "grids = [lr_grid_search, dt_grid_search, rf_grid_search, knn_grid_search, svm_grid_search, xgb_grid_search]\n",
        "for pipe in grids:\n",
        "    pipe.fit(x_train_,y_train_)"
      ],
      "metadata": {
        "id": "joO0VG1pZ4AN"
      },
      "execution_count": 57,
      "outputs": []
    },
    {
      "cell_type": "code",
      "source": [
        "from sklearn.metrics import roc_auc_score, classification_report\n",
        "grid_dict = {0: 'Logistic Regression', 1: 'Decision Trees', \n",
        "             2: 'Random Forest', 3: 'K-Nearest Neighbors', \n",
        "             4: 'Support Vector Machines', 5: 'XGBoost'}\n",
        "for i, model in enumerate(grids):\n",
        "    print('{} Test Accuracy: {}'.format(grid_dict[i],model.score(x_test,y_test)))\n",
        "    y_pred=model.predict(x_test)\n",
        "    print(\"AUROC:\",roc_auc_score(y_test,y_pred))\n",
        "    print(classification_report(y_test,y_pred))"
      ],
      "metadata": {
        "colab": {
          "base_uri": "https://localhost:8080/"
        },
        "id": "RUEX1OsPZ7Vk",
        "outputId": "36a91b06-c573-4811-c545-6504ded166f6"
      },
      "execution_count": 58,
      "outputs": [
        {
          "output_type": "stream",
          "name": "stdout",
          "text": [
            "Logistic Regression Test Accuracy: 0.8918837136272626\n",
            "AUROC: 0.8104785632929141\n",
            "              precision    recall  f1-score   support\n",
            "\n",
            "           0       0.97      0.85      0.90      7967\n",
            "           1       0.40      0.78      0.53      1076\n",
            "\n",
            "    accuracy                           0.84      9043\n",
            "   macro avg       0.68      0.81      0.72      9043\n",
            "weighted avg       0.90      0.84      0.86      9043\n",
            "\n",
            "Decision Trees Test Accuracy: 0.875924177007106\n",
            "AUROC: 0.801864557003961\n",
            "              precision    recall  f1-score   support\n",
            "\n",
            "           0       0.96      0.84      0.90      7967\n",
            "           1       0.39      0.76      0.52      1076\n",
            "\n",
            "    accuracy                           0.83      9043\n",
            "   macro avg       0.68      0.80      0.71      9043\n",
            "weighted avg       0.90      0.83      0.85      9043\n",
            "\n",
            "Random Forest Test Accuracy: 0.8892514568692511\n",
            "AUROC: 0.8054858493889524\n",
            "              precision    recall  f1-score   support\n",
            "\n",
            "           0       0.96      0.87      0.91      7967\n",
            "           1       0.43      0.74      0.55      1076\n",
            "\n",
            "    accuracy                           0.85      9043\n",
            "   macro avg       0.70      0.81      0.73      9043\n",
            "weighted avg       0.90      0.85      0.87      9043\n",
            "\n",
            "K-Nearest Neighbors Test Accuracy: 0.861149418395491\n",
            "AUROC: 0.7630113273946479\n",
            "              precision    recall  f1-score   support\n",
            "\n",
            "           0       0.95      0.87      0.91      7967\n",
            "           1       0.40      0.66      0.50      1076\n",
            "\n",
            "    accuracy                           0.84      9043\n",
            "   macro avg       0.68      0.76      0.70      9043\n",
            "weighted avg       0.88      0.84      0.86      9043\n",
            "\n",
            "Support Vector Machines Test Accuracy: 0.9017678873307786\n",
            "AUROC: 0.8130383207123436\n",
            "              precision    recall  f1-score   support\n",
            "\n",
            "           0       0.97      0.85      0.91      7967\n",
            "           1       0.42      0.77      0.54      1076\n",
            "\n",
            "    accuracy                           0.84      9043\n",
            "   macro avg       0.69      0.81      0.72      9043\n",
            "weighted avg       0.90      0.84      0.86      9043\n",
            "\n",
            "XGBoost Test Accuracy: 0.9092134469183524\n",
            "AUROC: 0.8276050884620249\n",
            "              precision    recall  f1-score   support\n",
            "\n",
            "           0       0.97      0.86      0.91      7967\n",
            "           1       0.43      0.80      0.56      1076\n",
            "\n",
            "    accuracy                           0.85      9043\n",
            "   macro avg       0.70      0.83      0.74      9043\n",
            "weighted avg       0.91      0.85      0.87      9043\n",
            "\n"
          ]
        }
      ]
    },
    {
      "cell_type": "code",
      "source": [
        "ConfusionMatrixDisplay.from_estimator(xgb_grid_search, x_test, y_test)"
      ],
      "metadata": {
        "colab": {
          "base_uri": "https://localhost:8080/",
          "height": 296
        },
        "id": "tIMXL25Lc9Kb",
        "outputId": "444302cc-5769-4770-fe10-0ddfa54cae02"
      },
      "execution_count": 59,
      "outputs": [
        {
          "output_type": "execute_result",
          "data": {
            "text/plain": [
              "<sklearn.metrics._plot.confusion_matrix.ConfusionMatrixDisplay at 0x7f3d070ef1f0>"
            ]
          },
          "metadata": {},
          "execution_count": 59
        },
        {
          "output_type": "display_data",
          "data": {
            "text/plain": [
              "<Figure size 432x288 with 2 Axes>"
            ],
            "image/png": "[encoded data removed]"
          },
          "metadata": {
            "needs_background": "light"
          }
        }
      ]
    },
    {
      "cell_type": "code",
      "source": [
        "from sklearn.metrics import RocCurveDisplay\n",
        "RocCurveDisplay.from_estimator(xgb_grid_search,x_train_,y_train_)"
      ],
      "metadata": {
        "colab": {
          "base_uri": "https://localhost:8080/",
          "height": 296
        },
        "id": "wSy7frihdJg6",
        "outputId": "5b902f59-43a2-4059-c25e-6fc26482e81a"
      },
      "execution_count": 68,
      "outputs": [
        {
          "output_type": "execute_result",
          "data": {
            "text/plain": [
              "<sklearn.metrics._plot.roc_curve.RocCurveDisplay at 0x7f3cf2273100>"
            ]
          },
          "metadata": {},
          "execution_count": 68
        },
        {
          "output_type": "display_data",
          "data": {
            "text/plain": [
              "<Figure size 432x288 with 1 Axes>"
            ],
            "image/png": "[encoded data removed]"
          },
          "metadata": {
            "needs_background": "light"
          }
        }
      ]
    },
    {
      "cell_type": "code",
      "source": [
        "from sklearn.metrics import RocCurveDisplay\n",
        "RocCurveDisplay.from_estimator(xgb_grid_search,x_test,y_test)"
      ],
      "metadata": {
        "colab": {
          "base_uri": "https://localhost:8080/",
          "height": 296
        },
        "id": "xRjZ-d_ydVGe",
        "outputId": "ff2c1e8a-711d-4a04-b005-c23dc695676f"
      },
      "execution_count": 62,
      "outputs": [
        {
          "output_type": "execute_result",
          "data": {
            "text/plain": [
              "<sklearn.metrics._plot.roc_curve.RocCurveDisplay at 0x7f3cf1e9c130>"
            ]
          },
          "metadata": {},
          "execution_count": 62
        },
        {
          "output_type": "display_data",
          "data": {
            "text/plain": [
              "<Figure size 432x288 with 1 Axes>"
            ],
            "image/png": "[encoded data removed]"
          },
          "metadata": {
            "needs_background": "light"
          }
        }
      ]
    },
    {
      "cell_type": "code",
      "source": [
        "thresholds = list(zip(xgb_grid_search.best_estimator_.named_steps[\"XGB\"].feature_importances_, df.drop(\"target\",axis=1)))\n",
        "imp = pd.DataFrame(thresholds, columns = [\"Importance\",\"Feature\"])\n",
        "imp.sort_values(\"Importance\",ascending = False,inplace=True,ignore_index=True)\n",
        "imp"
      ],
      "metadata": {
        "colab": {
          "base_uri": "https://localhost:8080/",
          "height": 1000
        },
        "id": "g7RbQ4K8dj5u",
        "outputId": "a5607bc4-bb49-4c8a-e427-bfbf9d484ddc"
      },
      "execution_count": 69,
      "outputs": [
        {
          "output_type": "execute_result",
          "data": {
            "text/plain": [
              "    Importance               Feature\n",
              "0     0.244601   call_type_telephone\n",
              "1     0.189678                   age\n",
              "2     0.080173        job_unemployed\n",
              "3     0.071002  prev_outcome_success\n",
              "4     0.054105               mon_jul\n",
              "5     0.040389         job_housemaid\n",
              "6     0.035634           job_unknown\n",
              "7     0.029830               mon_sep\n",
              "8     0.026932     call_type_unknown\n",
              "9     0.021423          job_services\n",
              "10    0.018697               marital\n",
              "11    0.014761        job_technician\n",
              "12    0.014499               mon_nov\n",
              "13    0.013122        education_qual\n",
              "14    0.012788               mon_oct\n",
              "15    0.012529        job_management\n",
              "16    0.012346               mon_mar\n",
              "17    0.010543           job_student\n",
              "18    0.010262     job_self-employed\n",
              "19    0.009245           job_retired\n",
              "20    0.009020               mon_may\n",
              "21    0.008209    prev_outcome_other\n",
              "22    0.008101               mon_jun\n",
              "23    0.007921               mon_dec\n",
              "24    0.007703       job_blue-collar\n",
              "25    0.007334                   dur\n",
              "26    0.006958               mon_feb\n",
              "27    0.005835  prev_outcome_unknown\n",
              "28    0.005813      job_entrepreneur\n",
              "29    0.005293               mon_jan\n",
              "30    0.005253               mon_aug"
            ],
            "text/html": [
              "\n",
              "  <div id=\"df-bad0bb60-ca33-47b8-a60d-c3cd5ca87b62\">\n",
              "    <div class=\"colab-df-container\">\n",
              "      <div>\n",
              "<style scoped>\n",
              "    .dataframe tbody tr th:only-of-type {\n",
              "        vertical-align: middle;\n",
              "    }\n",
              "\n",
              "    .dataframe tbody tr th {\n",
              "        vertical-align: top;\n",
              "    }\n",
              "\n",
              "    .dataframe thead th {\n",
              "        text-align: right;\n",
              "    }\n",
              "</style>\n",
              "<table border=\"1\" class=\"dataframe\">\n",
              "  <thead>\n",
              "    <tr style=\"text-align: right;\">\n",
              "      <th></th>\n",
              "      <th>Importance</th>\n",
              "      <th>Feature</th>\n",
              "    </tr>\n",
              "  </thead>\n",
              "  <tbody>\n",
              "    <tr>\n",
              "      <th>0</th>\n",
              "      <td>0.244601</td>\n",
              "      <td>call_type_telephone</td>\n",
              "    </tr>\n",
              "    <tr>\n",
              "      <th>1</th>\n",
              "      <td>0.189678</td>\n",
              "      <td>age</td>\n",
              "    </tr>\n",
              "    <tr>\n",
              "      <th>2</th>\n",
              "      <td>0.080173</td>\n",
              "      <td>job_unemployed</td>\n",
              "    </tr>\n",
              "    <tr>\n",
              "      <th>3</th>\n",
              "      <td>0.071002</td>\n",
              "      <td>prev_outcome_success</td>\n",
              "    </tr>\n",
              "    <tr>\n",
              "      <th>4</th>\n",
              "      <td>0.054105</td>\n",
              "      <td>mon_jul</td>\n",
              "    </tr>\n",
              "    <tr>\n",
              "      <th>5</th>\n",
              "      <td>0.040389</td>\n",
              "      <td>job_housemaid</td>\n",
              "    </tr>\n",
              "    <tr>\n",
              "      <th>6</th>\n",
              "      <td>0.035634</td>\n",
              "      <td>job_unknown</td>\n",
              "    </tr>\n",
              "    <tr>\n",
              "      <th>7</th>\n",
              "      <td>0.029830</td>\n",
              "      <td>mon_sep</td>\n",
              "    </tr>\n",
              "    <tr>\n",
              "      <th>8</th>\n",
              "      <td>0.026932</td>\n",
              "      <td>call_type_unknown</td>\n",
              "    </tr>\n",
              "    <tr>\n",
              "      <th>9</th>\n",
              "      <td>0.021423</td>\n",
              "      <td>job_services</td>\n",
              "    </tr>\n",
              "    <tr>\n",
              "      <th>10</th>\n",
              "      <td>0.018697</td>\n",
              "      <td>marital</td>\n",
              "    </tr>\n",
              "    <tr>\n",
              "      <th>11</th>\n",
              "      <td>0.014761</td>\n",
              "      <td>job_technician</td>\n",
              "    </tr>\n",
              "    <tr>\n",
              "      <th>12</th>\n",
              "      <td>0.014499</td>\n",
              "      <td>mon_nov</td>\n",
              "    </tr>\n",
              "    <tr>\n",
              "      <th>13</th>\n",
              "      <td>0.013122</td>\n",
              "      <td>education_qual</td>\n",
              "    </tr>\n",
              "    <tr>\n",
              "      <th>14</th>\n",
              "      <td>0.012788</td>\n",
              "      <td>mon_oct</td>\n",
              "    </tr>\n",
              "    <tr>\n",
              "      <th>15</th>\n",
              "      <td>0.012529</td>\n",
              "      <td>job_management</td>\n",
              "    </tr>\n",
              "    <tr>\n",
              "      <th>16</th>\n",
              "      <td>0.012346</td>\n",
              "      <td>mon_mar</td>\n",
              "    </tr>\n",
              "    <tr>\n",
              "      <th>17</th>\n",
              "      <td>0.010543</td>\n",
              "      <td>job_student</td>\n",
              "    </tr>\n",
              "    <tr>\n",
              "      <th>18</th>\n",
              "      <td>0.010262</td>\n",
              "      <td>job_self-employed</td>\n",
              "    </tr>\n",
              "    <tr>\n",
              "      <th>19</th>\n",
              "      <td>0.009245</td>\n",
              "      <td>job_retired</td>\n",
              "    </tr>\n",
              "    <tr>\n",
              "      <th>20</th>\n",
              "      <td>0.009020</td>\n",
              "      <td>mon_may</td>\n",
              "    </tr>\n",
              "    <tr>\n",
              "      <th>21</th>\n",
              "      <td>0.008209</td>\n",
              "      <td>prev_outcome_other</td>\n",
              "    </tr>\n",
              "    <tr>\n",
              "      <th>22</th>\n",
              "      <td>0.008101</td>\n",
              "      <td>mon_jun</td>\n",
              "    </tr>\n",
              "    <tr>\n",
              "      <th>23</th>\n",
              "      <td>0.007921</td>\n",
              "      <td>mon_dec</td>\n",
              "    </tr>\n",
              "    <tr>\n",
              "      <th>24</th>\n",
              "      <td>0.007703</td>\n",
              "      <td>job_blue-collar</td>\n",
              "    </tr>\n",
              "    <tr>\n",
              "      <th>25</th>\n",
              "      <td>0.007334</td>\n",
              "      <td>dur</td>\n",
              "    </tr>\n",
              "    <tr>\n",
              "      <th>26</th>\n",
              "      <td>0.006958</td>\n",
              "      <td>mon_feb</td>\n",
              "    </tr>\n",
              "    <tr>\n",
              "      <th>27</th>\n",
              "      <td>0.005835</td>\n",
              "      <td>prev_outcome_unknown</td>\n",
              "    </tr>\n",
              "    <tr>\n",
              "      <th>28</th>\n",
              "      <td>0.005813</td>\n",
              "      <td>job_entrepreneur</td>\n",
              "    </tr>\n",
              "    <tr>\n",
              "      <th>29</th>\n",
              "      <td>0.005293</td>\n",
              "      <td>mon_jan</td>\n",
              "    </tr>\n",
              "    <tr>\n",
              "      <th>30</th>\n",
              "      <td>0.005253</td>\n",
              "      <td>mon_aug</td>\n",
              "    </tr>\n",
              "  </tbody>\n",
              "</table>\n",
              "</div>\n",
              "      <button class=\"colab-df-convert\" onclick=\"convertToInteractive('df-bad0bb60-ca33-47b8-a60d-c3cd5ca87b62')\"\n",
              "              title=\"Convert this dataframe to an interactive table.\"\n",
              "              style=\"display:none;\">\n",
              "        \n",
              "  <svg xmlns=\"http://www.w3.org/2000/svg\" height=\"24px\"viewBox=\"0 0 24 24\"\n",
              "       width=\"24px\">\n",
              "    <path d=\"M0 0h24v24H0V0z\" fill=\"none\"/>\n",
              "    <path d=\"M18.56 5.44l.94 2.06.94-2.06 2.06-.94-2.06-.94-.94-2.06-.94 2.06-2.06.94zm-11 1L8.5 8.5l.94-2.06 2.06-.94-2.06-.94L8.5 2.5l-.94 2.06-2.06.94zm10 10l.94 2.06.94-2.06 2.06-.94-2.06-.94-.94-2.06-.94 2.06-2.06.94z\"/><path d=\"M17.41 7.96l-1.37-1.37c-.4-.4-.92-.59-1.43-.59-.52 0-1.04.2-1.43.59L10.3 9.45l-7.72 7.72c-.78.78-.78 2.05 0 2.83L4 21.41c.39.39.9.59 1.41.59.51 0 1.02-.2 1.41-.59l7.78-7.78 2.81-2.81c.8-.78.8-2.07 0-2.86zM5.41 20L4 18.59l7.72-7.72 1.47 1.35L5.41 20z\"/>\n",
              "  </svg>\n",
              "      </button>\n",
              "      \n",
              "  <style>\n",
              "    .colab-df-container {\n",
              "      display:flex;\n",
              "      flex-wrap:wrap;\n",
              "      gap: 12px;\n",
              "    }\n",
              "\n",
              "    .colab-df-convert {\n",
              "      background-color: #E8F0FE;\n",
              "      border: none;\n",
              "      border-radius: 50%;\n",
              "      cursor: pointer;\n",
              "      display: none;\n",
              "      fill: #1967D2;\n",
              "      height: 32px;\n",
              "      padding: 0 0 0 0;\n",
              "      width: 32px;\n",
              "    }\n",
              "\n",
              "    .colab-df-convert:hover {\n",
              "      background-color: #E2EBFA;\n",
              "      box-shadow: 0px 1px 2px rgba(60, 64, 67, 0.3), 0px 1px 3px 1px rgba(60, 64, 67, 0.15);\n",
              "      fill: #174EA6;\n",
              "    }\n",
              "\n",
              "    [theme=dark] .colab-df-convert {\n",
              "      background-color: #3B4455;\n",
              "      fill: #D2E3FC;\n",
              "    }\n",
              "\n",
              "    [theme=dark] .colab-df-convert:hover {\n",
              "      background-color: #434B5C;\n",
              "      box-shadow: 0px 1px 3px 1px rgba(0, 0, 0, 0.15);\n",
              "      filter: drop-shadow(0px 1px 2px rgba(0, 0, 0, 0.3));\n",
              "      fill: #FFFFFF;\n",
              "    }\n",
              "  </style>\n",
              "\n",
              "      <script>\n",
              "        const buttonEl =\n",
              "          document.querySelector('#df-bad0bb60-ca33-47b8-a60d-c3cd5ca87b62 button.colab-df-convert');\n",
              "        buttonEl.style.display =\n",
              "          google.colab.kernel.accessAllowed ? 'block' : 'none';\n",
              "\n",
              "        async function convertToInteractive(key) {\n",
              "          const element = document.querySelector('#df-bad0bb60-ca33-47b8-a60d-c3cd5ca87b62');\n",
              "          const dataTable =\n",
              "            await google.colab.kernel.invokeFunction('convertToInteractive',\n",
              "                                                     [key], {});\n",
              "          if (!dataTable) return;\n",
              "\n",
              "          const docLinkHtml = 'Like what you see? Visit the ' +\n",
              "            '<a target=\"_blank\" href=https://colab.research.google.com/notebooks/data_table.ipynb>data table notebook</a>'\n",
              "            + ' to learn more about interactive tables.';\n",
              "          element.innerHTML = '';\n",
              "          dataTable['output_type'] = 'display_data';\n",
              "          await google.colab.output.renderOutput(dataTable, element);\n",
              "          const docLink = document.createElement('div');\n",
              "          docLink.innerHTML = docLinkHtml;\n",
              "          element.appendChild(docLink);\n",
              "        }\n",
              "      </script>\n",
              "    </div>\n",
              "  </div>\n",
              "  "
            ]
          },
          "metadata": {},
          "execution_count": 69
        }
      ]
    },
    {
      "cell_type": "markdown",
      "source": [
        "Bit imrpovement than the previous one(Job-Label Encoding).. Same as before XGBClassifier performs better than other classifiers."
      ],
      "metadata": {
        "id": "Cnt_17LhjyCF"
      }
    }
  ]
}